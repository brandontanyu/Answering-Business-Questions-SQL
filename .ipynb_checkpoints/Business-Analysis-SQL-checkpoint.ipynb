{
 "cells": [
  {
   "cell_type": "markdown",
   "id": "47efe32c",
   "metadata": {},
   "source": [
    "# Answering Business Questions With SQL"
   ]
  },
  {
   "cell_type": "markdown",
   "id": "1ad4e9ae",
   "metadata": {},
   "source": [
    "## Introduction"
   ]
  },
  {
   "cell_type": "markdown",
   "id": "46047c88",
   "metadata": {},
   "source": [
    "This project uses the Chinook database.The Chinook database contains information about the artists, songs, and albums from the music shop, as well as information on the shop's employees, customers, and the customers purchases.\n",
    "\n",
    "This information is contained in eleven table. A schema diagram will help us understand the available columns and the structure of the data. Here's a schema diagram for the Chinook database:\n",
    "\n",
    "![alt text](https://github.com/brandontanyu/Answering-Business-Questions-SQL/blob/main/screenshoots/chinook-schema.PNG)\n"
   ]
  },
  {
   "cell_type": "markdown",
   "id": "36d4681a",
   "metadata": {},
   "source": [
    "* Load the database."
   ]
  },
  {
   "cell_type": "code",
   "execution_count": 12,
   "id": "c2915b78",
   "metadata": {},
   "outputs": [],
   "source": [
    "%%capture\n",
    "%load_ext sql\n",
    "%sql sqlite:///chinook.db"
   ]
  },
  {
   "cell_type": "markdown",
   "id": "a5e44894",
   "metadata": {},
   "source": [
    "* Inspect the whole database"
   ]
  },
  {
   "cell_type": "code",
   "execution_count": 14,
   "id": "f6f9a7f3",
   "metadata": {},
   "outputs": [
    {
     "name": "stdout",
     "output_type": "stream",
     "text": [
      " * sqlite:///chinook.db\n",
      "Done.\n"
     ]
    },
    {
     "data": {
      "text/html": [
       "<table>\n",
       "    <thead>\n",
       "        <tr>\n",
       "            <th>type</th>\n",
       "            <th>name</th>\n",
       "            <th>tbl_name</th>\n",
       "            <th>rootpage</th>\n",
       "            <th>sql</th>\n",
       "        </tr>\n",
       "    </thead>\n",
       "    <tbody>\n",
       "    </tbody>\n",
       "</table>"
      ],
      "text/plain": [
       "[]"
      ]
     },
     "execution_count": 14,
     "metadata": {},
     "output_type": "execute_result"
    }
   ],
   "source": [
    "%%sql\n",
    "SELECT\n",
    "    name,\n",
    "    type\n",
    "FROM sqlite_master\n",
    "WHERE type IN (\"table\",\"view\");"
   ]
  },
  {
   "cell_type": "code",
   "execution_count": null,
   "id": "c5b295ba",
   "metadata": {},
   "outputs": [],
   "source": []
  }
 ],
 "metadata": {
  "kernelspec": {
   "display_name": "Python 3 (ipykernel)",
   "language": "python",
   "name": "python3"
  },
  "language_info": {
   "codemirror_mode": {
    "name": "ipython",
    "version": 3
   },
   "file_extension": ".py",
   "mimetype": "text/x-python",
   "name": "python",
   "nbconvert_exporter": "python",
   "pygments_lexer": "ipython3",
   "version": "3.9.12"
  }
 },
 "nbformat": 4,
 "nbformat_minor": 5
}
