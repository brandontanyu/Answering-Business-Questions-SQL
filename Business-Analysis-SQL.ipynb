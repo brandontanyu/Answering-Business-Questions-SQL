{
 "cells": [
  {
   "cell_type": "markdown",
   "id": "aadba198",
   "metadata": {},
   "source": [
    "# Answering Business Questions With SQL"
   ]
  },
  {
   "cell_type": "markdown",
   "id": "732db1d6",
   "metadata": {},
   "source": [
    "## Introduction"
   ]
  },
  {
   "cell_type": "markdown",
   "id": "77c23720",
   "metadata": {},
   "source": [
    "This project uses the Chinook database.The Chinook database contains information about the artists, songs, and albums from the music shop, as well as information on the shop's employees, customers, and the customers purchases.\n",
    "\n",
    "This information is contained in eleven table. A schema diagram will help us understand the available columns and the structure of the data. Here's a schema diagram for the Chinook database:\n",
    "\n",
    "![alt text](screenshoots/chinook-schema.PNG)\n"
   ]
  },
  {
   "cell_type": "markdown",
   "id": "8ae4926d",
   "metadata": {},
   "source": [
    "* Load the database."
   ]
  },
  {
   "cell_type": "code",
   "execution_count": 1,
   "id": "3e2846b1",
   "metadata": {},
   "outputs": [],
   "source": [
    "%%capture\n",
    "%load_ext sql\n",
    "%sql sqlite:///chinook.db"
   ]
  },
  {
   "cell_type": "markdown",
   "id": "d7b9febb",
   "metadata": {},
   "source": [
    "* Inspect the whole database"
   ]
  },
  {
   "cell_type": "code",
   "execution_count": 8,
   "id": "a338eadd",
   "metadata": {},
   "outputs": [
    {
     "name": "stdout",
     "output_type": "stream",
     "text": [
      " * sqlite:///chinook.db\n",
      "Done.\n"
     ]
    },
    {
     "data": {
      "text/html": [
       "<table>\n",
       "    <thead>\n",
       "        <tr>\n",
       "            <th>name</th>\n",
       "            <th>type</th>\n",
       "        </tr>\n",
       "    </thead>\n",
       "    <tbody>\n",
       "        <tr>\n",
       "            <td>album</td>\n",
       "            <td>table</td>\n",
       "        </tr>\n",
       "        <tr>\n",
       "            <td>artist</td>\n",
       "            <td>table</td>\n",
       "        </tr>\n",
       "        <tr>\n",
       "            <td>customer</td>\n",
       "            <td>table</td>\n",
       "        </tr>\n",
       "        <tr>\n",
       "            <td>employee</td>\n",
       "            <td>table</td>\n",
       "        </tr>\n",
       "        <tr>\n",
       "            <td>genre</td>\n",
       "            <td>table</td>\n",
       "        </tr>\n",
       "        <tr>\n",
       "            <td>invoice</td>\n",
       "            <td>table</td>\n",
       "        </tr>\n",
       "        <tr>\n",
       "            <td>invoice_line</td>\n",
       "            <td>table</td>\n",
       "        </tr>\n",
       "        <tr>\n",
       "            <td>media_type</td>\n",
       "            <td>table</td>\n",
       "        </tr>\n",
       "        <tr>\n",
       "            <td>playlist</td>\n",
       "            <td>table</td>\n",
       "        </tr>\n",
       "        <tr>\n",
       "            <td>playlist_track</td>\n",
       "            <td>table</td>\n",
       "        </tr>\n",
       "        <tr>\n",
       "            <td>track</td>\n",
       "            <td>table</td>\n",
       "        </tr>\n",
       "    </tbody>\n",
       "</table>"
      ],
      "text/plain": [
       "[('album', 'table'),\n",
       " ('artist', 'table'),\n",
       " ('customer', 'table'),\n",
       " ('employee', 'table'),\n",
       " ('genre', 'table'),\n",
       " ('invoice', 'table'),\n",
       " ('invoice_line', 'table'),\n",
       " ('media_type', 'table'),\n",
       " ('playlist', 'table'),\n",
       " ('playlist_track', 'table'),\n",
       " ('track', 'table')]"
      ]
     },
     "execution_count": 8,
     "metadata": {},
     "output_type": "execute_result"
    }
   ],
   "source": [
    "%%sql\n",
    "SELECT\n",
    "    name,\n",
    "    type\n",
    "FROM sqlite_master\n",
    "WHERE type IN (\"table\",\"view\");"
   ]
  },
  {
   "cell_type": "markdown",
   "id": "d845fd4c",
   "metadata": {},
   "source": [
    "## **First Business Question**"
   ]
  },
  {
   "cell_type": "markdown",
   "id": "27d82c5b",
   "metadata": {},
   "source": [
    "The Chinook record store has just signed a deal with a new record label, and you've been tasked with selecting the first three albums that will be added to the store, from a list of four.\n",
    "\n",
    "All four albums are by artists that don't have any tracks in the store right now - we have the artist names, and the genre of music they produce:"
   ]
  },
  {
   "cell_type": "markdown",
   "id": "cfa217e2",
   "metadata": {},
   "source": [
    "|Artist Name|Genre|\n",
    "|----------|---------|\n",
    "|Regal|Hip-hop|\n",
    "|Red Tone|Punk|\n",
    "|Meteor and the Girls|Pop|\n",
    "|Slim Jim Bites|Blues|\n"
   ]
  },
  {
   "cell_type": "markdown",
   "id": "6b37627d",
   "metadata": {},
   "source": [
    "**The record label specializes in artists from the USA, and they have given Chinook some money to advertise the new albums in the USA, so we're interested in finding out which genres sell the best in the United States of America.**"
   ]
  },
  {
   "cell_type": "code",
   "execution_count": null,
   "id": "a8bc9ae2",
   "metadata": {},
   "outputs": [],
   "source": []
  }
 ],
 "metadata": {
  "kernelspec": {
   "display_name": "Python 3 (ipykernel)",
   "language": "python",
   "name": "python3"
  },
  "language_info": {
   "codemirror_mode": {
    "name": "ipython",
    "version": 3
   },
   "file_extension": ".py",
   "mimetype": "text/x-python",
   "name": "python",
   "nbconvert_exporter": "python",
   "pygments_lexer": "ipython3",
   "version": "3.9.12"
  }
 },
 "nbformat": 4,
 "nbformat_minor": 5
}
