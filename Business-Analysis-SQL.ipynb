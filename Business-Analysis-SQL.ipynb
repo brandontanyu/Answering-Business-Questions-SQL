{
 "cells": [
  {
   "cell_type": "markdown",
   "id": "de75c17e",
   "metadata": {},
   "source": [
    "# Answering Business Questions With SQL"
   ]
  },
  {
   "cell_type": "markdown",
   "id": "8421e3ac",
   "metadata": {},
   "source": [
    "## Introduction"
   ]
  },
  {
   "cell_type": "markdown",
   "id": "1afe3c00",
   "metadata": {},
   "source": [
    "This project uses the Chinook database.The Chinook database contains information about the artists, songs, and albums from the music shop, as well as information on the shop's employees, customers, and the customers purchases.\n",
    "\n",
    "This information is contained in eleven table. A schema diagram will help us understand the available columns and the structure of the data. Here's a schema diagram for the Chinook database:\n",
    "\n",
    "![alt text](https://github.com/brandontanyu/Answering-Business-Questions-SQL/blob/main/screenshoots/chinook-schema.PNG)\n"
   ]
  }
 ],
 "metadata": {
  "kernelspec": {
   "display_name": "Python 3 (ipykernel)",
   "language": "python",
   "name": "python3"
  },
  "language_info": {
   "codemirror_mode": {
    "name": "ipython",
    "version": 3
   },
   "file_extension": ".py",
   "mimetype": "text/x-python",
   "name": "python",
   "nbconvert_exporter": "python",
   "pygments_lexer": "ipython3",
   "version": "3.9.12"
  }
 },
 "nbformat": 4,
 "nbformat_minor": 5
}
